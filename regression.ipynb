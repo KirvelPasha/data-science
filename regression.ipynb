{
  "nbformat": 4,
  "nbformat_minor": 0,
  "metadata": {
    "colab": {
      "name": "regression.ipynb",
      "provenance": [],
      "include_colab_link": true
    },
    "kernelspec": {
      "name": "python3",
      "display_name": "Python 3"
    }
  },
  "cells": [
    {
      "cell_type": "markdown",
      "metadata": {
        "id": "view-in-github",
        "colab_type": "text"
      },
      "source": [
        "<a href=\"https://colab.research.google.com/github/KirvelPasha/data-science/blob/master/regression.ipynb\" target=\"_parent\"><img src=\"https://colab.research.google.com/assets/colab-badge.svg\" alt=\"Open In Colab\"/></a>"
      ]
    },
    {
      "cell_type": "code",
      "metadata": {
        "id": "XwLD7zXaC8jj",
        "colab_type": "code",
        "colab": {}
      },
      "source": [
        "from matplotlib.colors import ListedColormap\n",
        "from sklearn import model_selection, datasets, linear_model, metrics\n",
        "\n",
        "import numpy as np\n",
        "import matplotlib.pyplot as plt"
      ],
      "execution_count": 92,
      "outputs": []
    },
    {
      "cell_type": "code",
      "metadata": {
        "id": "T6Xx6PsLupeM",
        "colab_type": "code",
        "colab": {
          "base_uri": "https://localhost:8080/",
          "height": 34
        },
        "outputId": "bd679778-4ff5-4676-b810-4c98556036f2"
      },
      "source": [
        "%pylab inline"
      ],
      "execution_count": 93,
      "outputs": [
        {
          "output_type": "stream",
          "text": [
            "Populating the interactive namespace from numpy and matplotlib\n"
          ],
          "name": "stdout"
        }
      ]
    },
    {
      "cell_type": "code",
      "metadata": {
        "id": "Jg5VCHmRuqHF",
        "colab_type": "code",
        "colab": {}
      },
      "source": [
        "data, target, coef = datasets.make_regression(n_features = 2, n_informative = 1, n_targets = 1, \n",
        "                                              noise = 5., coef = True, random_state = 2)"
      ],
      "execution_count": 94,
      "outputs": []
    },
    {
      "cell_type": "code",
      "metadata": {
        "id": "LnsR9aFHutWy",
        "colab_type": "code",
        "colab": {
          "base_uri": "https://localhost:8080/",
          "height": 265
        },
        "outputId": "ae680584-1480-4dac-e87d-e678a5617242"
      },
      "source": [
        "plt.scatter(data[:,0], target, color = 'r')\n",
        "plt.scatter(data[:,1], target, color = 'b');"
      ],
      "execution_count": 95,
      "outputs": [
        {
          "output_type": "display_data",
          "data": {
            "image/png": "[encoded data removed]",
            "text/plain": [
              "<Figure size 432x288 with 1 Axes>"
            ]
          },
          "metadata": {
            "tags": [],
            "needs_background": "light"
          }
        }
      ]
    },
    {
      "cell_type": "code",
      "metadata": {
        "id": "kBlfHNm-x4VE",
        "colab_type": "code",
        "colab": {}
      },
      "source": [
        "train_data, test_data, train_labels, test_labels = model_selection.train_test_split(data, target,  \n",
        "                                                                                    test_size = 0.3)"
      ],
      "execution_count": 96,
      "outputs": []
    },
    {
      "cell_type": "markdown",
      "metadata": {
        "id": "OO9v5NJHmVwJ",
        "colab_type": "text"
      },
      "source": [
        "**LinearRegression**"
      ]
    },
    {
      "cell_type": "code",
      "metadata": {
        "id": "XBI_RuRomYf5",
        "colab_type": "code",
        "colab": {}
      },
      "source": [
        "linear_regressor = linear_model.LinearRegression()\n",
        "linear_regressor.fit(train_data, train_labels)\n",
        "predictions = linear_regressor.predict(test_data)"
      ],
      "execution_count": 97,
      "outputs": []
    },
    {
      "cell_type": "code",
      "metadata": {
        "id": "opaqv5oAmYlF",
        "colab_type": "code",
        "colab": {
          "base_uri": "https://localhost:8080/",
          "height": 118
        },
        "outputId": "917e2618-3b31-413e-c056-b7516c83749c"
      },
      "source": [
        "print(test_labels)"
      ],
      "execution_count": 98,
      "outputs": [
        {
          "output_type": "stream",
          "text": [
            "[ 11.96165156 -84.32102748 -13.26392817   1.72644759  13.31981235\n",
            " -10.29545833 -91.477377    -4.38652971  29.8208999   24.47584129\n",
            "  24.82763821  49.41686419  64.70214251 -22.64686884  10.33267887\n",
            " -36.44717565  27.83791274 -45.38589148 -36.69728864   4.45578287\n",
            " -21.48288019 -32.92158843  78.24817537 -32.71074998  38.36241814\n",
            "  12.47089016 -35.32062686   5.86887774 -22.32195021 -22.33224966]\n"
          ],
          "name": "stdout"
        }
      ]
    },
    {
      "cell_type": "code",
      "metadata": {
        "id": "mexZFZeXmYog",
        "colab_type": "code",
        "colab": {
          "base_uri": "https://localhost:8080/",
          "height": 118
        },
        "outputId": "8de11a99-04c0-4287-c3af-0b14a61d56d9"
      },
      "source": [
        "print(predictions)"
      ],
      "execution_count": 99,
      "outputs": [
        {
          "output_type": "stream",
          "text": [
            "[ 13.46291074 -82.74262092 -16.78392746  -0.63502117  14.07728571\n",
            " -11.44272227 -94.48731954  -5.20907187  31.32808713  22.83340283\n",
            "  30.26285174  55.75676615  68.2570284  -18.13597938   8.65727684\n",
            " -41.61801071  22.84734568 -44.52728459 -27.77914719   9.00248332\n",
            " -25.08762712 -34.57038544  66.29808518 -44.29929198  41.7180984\n",
            "  19.59048184 -42.79039928   4.20684134 -23.40881581 -29.52742001]\n"
          ],
          "name": "stdout"
        }
      ]
    },
    {
      "cell_type": "code",
      "metadata": {
        "id": "EheJllSkpFIG",
        "colab_type": "code",
        "colab": {
          "base_uri": "https://localhost:8080/",
          "height": 34
        },
        "outputId": "1b973d87-d44b-42bd-f9f1-152139fd5b3a"
      },
      "source": [
        "metrics.mean_squared_error(test_labels, predictions)"
      ],
      "execution_count": 112,
      "outputs": [
        {
          "output_type": "execute_result",
          "data": {
            "text/plain": [
              "25.45648452347817"
            ]
          },
          "metadata": {
            "tags": []
          },
          "execution_count": 112
        }
      ]
    },
    {
      "cell_type": "code",
      "metadata": {
        "id": "_qM38vNPmYr6",
        "colab_type": "code",
        "colab": {
          "base_uri": "https://localhost:8080/",
          "height": 34
        },
        "outputId": "f0ca2ca6-bb86-46b2-fb16-a7945471f43d"
      },
      "source": [
        "metrics.mean_absolute_error(test_labels, predictions)"
      ],
      "execution_count": 100,
      "outputs": [
        {
          "output_type": "execute_result",
          "data": {
            "text/plain": [
              "4.01768060379051"
            ]
          },
          "metadata": {
            "tags": []
          },
          "execution_count": 100
        }
      ]
    },
    {
      "cell_type": "code",
      "metadata": {
        "id": "vAu2m69FpzXE",
        "colab_type": "code",
        "colab": {
          "base_uri": "https://localhost:8080/",
          "height": 34
        },
        "outputId": "736590de-a3e2-42dd-e3f7-6dcef4e5397f"
      },
      "source": [
        "metrics.r2_score(test_labels, predictions)"
      ],
      "execution_count": 113,
      "outputs": [
        {
          "output_type": "execute_result",
          "data": {
            "text/plain": [
              "0.9823198701412574"
            ]
          },
          "metadata": {
            "tags": []
          },
          "execution_count": 113
        }
      ]
    },
    {
      "cell_type": "code",
      "metadata": {
        "id": "IWOCnE_bkTt6",
        "colab_type": "code",
        "colab": {
          "base_uri": "https://localhost:8080/",
          "height": 34
        },
        "outputId": "d5d08c06-100c-455b-a3bf-ed9047168804"
      },
      "source": [
        "coef"
      ],
      "execution_count": 101,
      "outputs": [
        {
          "output_type": "execute_result",
          "data": {
            "text/plain": [
              "array([38.07925837,  0.        ])"
            ]
          },
          "metadata": {
            "tags": []
          },
          "execution_count": 101
        }
      ]
    },
    {
      "cell_type": "code",
      "metadata": {
        "id": "YFUmKo6EmgxZ",
        "colab_type": "code",
        "colab": {
          "base_uri": "https://localhost:8080/",
          "height": 34
        },
        "outputId": "62cbe09d-908a-423b-a5bb-468c5bf3e72d"
      },
      "source": [
        "linear_regressor.coef_"
      ],
      "execution_count": 102,
      "outputs": [
        {
          "output_type": "execute_result",
          "data": {
            "text/plain": [
              "array([38.51835245,  0.15987562])"
            ]
          },
          "metadata": {
            "tags": []
          },
          "execution_count": 102
        }
      ]
    },
    {
      "cell_type": "code",
      "metadata": {
        "id": "17CJZX5jmtsi",
        "colab_type": "code",
        "colab": {
          "base_uri": "https://localhost:8080/",
          "height": 34
        },
        "outputId": "3c9e7657-13e1-48ba-99a6-0aa2aaf3c46f"
      },
      "source": [
        "linear_regressor.intercept_"
      ],
      "execution_count": 110,
      "outputs": [
        {
          "output_type": "execute_result",
          "data": {
            "text/plain": [
              "-0.7221061155660369"
            ]
          },
          "metadata": {
            "tags": []
          },
          "execution_count": 110
        }
      ]
    },
    {
      "cell_type": "markdown",
      "metadata": {
        "id": "5sWnAKc0qTc5",
        "colab_type": "text"
      },
      "source": [
        "**Cross Val Score**"
      ]
    },
    {
      "cell_type": "code",
      "metadata": {
        "id": "jrEZ9z-0iej9",
        "colab_type": "code",
        "colab": {}
      },
      "source": [
        "linear_regressor_score = linear_model.LinearRegression()"
      ],
      "execution_count": 103,
      "outputs": []
    },
    {
      "cell_type": "code",
      "metadata": {
        "id": "FnaxULymiOOS",
        "colab_type": "code",
        "colab": {}
      },
      "source": [
        "linear_scoring = model_selection.cross_val_score(linear_regressor_score, data, target, scoring = 'neg_mean_absolute_error', \n",
        "                                                  cv = 10)"
      ],
      "execution_count": 104,
      "outputs": []
    },
    {
      "cell_type": "code",
      "metadata": {
        "id": "fMwaUsi1iOW7",
        "colab_type": "code",
        "colab": {
          "base_uri": "https://localhost:8080/",
          "height": 34
        },
        "outputId": "0db16912-7dce-4d90-f027-d4816e962872"
      },
      "source": [
        "print('mean:', linear_scoring.mean())"
      ],
      "execution_count": 105,
      "outputs": [
        {
          "output_type": "stream",
          "text": [
            "mean: -4.070071498779696\n"
          ],
          "name": "stdout"
        }
      ]
    },
    {
      "cell_type": "code",
      "metadata": {
        "id": "OvyKqJ6OiOaW",
        "colab_type": "code",
        "colab": {}
      },
      "source": [
        "scorer = metrics.make_scorer(metrics.mean_absolute_error, greater_is_better = True)"
      ],
      "execution_count": 106,
      "outputs": []
    },
    {
      "cell_type": "code",
      "metadata": {
        "id": "b3-9mNWOiOdL",
        "colab_type": "code",
        "colab": {}
      },
      "source": [
        "linear_scoring = model_selection.cross_val_score(linear_regressor_score, data, target, scoring = scorer, \n",
        "                                                  cv = 10)"
      ],
      "execution_count": 107,
      "outputs": []
    },
    {
      "cell_type": "code",
      "metadata": {
        "id": "CriLPTOXjV48",
        "colab_type": "code",
        "colab": {
          "base_uri": "https://localhost:8080/",
          "height": 34
        },
        "outputId": "c6c5583e-a3ce-462f-b94a-c6b253fc3264"
      },
      "source": [
        "print('mean:', linear_scoring.mean())"
      ],
      "execution_count": 108,
      "outputs": [
        {
          "output_type": "stream",
          "text": [
            "mean: 4.070071498779696\n"
          ],
          "name": "stdout"
        }
      ]
    }
  ]
}