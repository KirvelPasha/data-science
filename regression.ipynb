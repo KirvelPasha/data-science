{
  "nbformat": 4,
  "nbformat_minor": 0,
  "metadata": {
    "colab": {
      "name": "regression.ipynb",
      "provenance": [],
      "include_colab_link": true
    },
    "kernelspec": {
      "name": "python3",
      "display_name": "Python 3"
    }
  },
  "cells": [
    {
      "cell_type": "markdown",
      "metadata": {
        "id": "view-in-github",
        "colab_type": "text"
      },
      "source": [
        "<a href=\"https://colab.research.google.com/github/KirvelPasha/data-science/blob/master/regression.ipynb\" target=\"_parent\"><img src=\"https://colab.research.google.com/assets/colab-badge.svg\" alt=\"Open In Colab\"/></a>"
      ]
    },
    {
      "cell_type": "code",
      "metadata": {
        "id": "XwLD7zXaC8jj",
        "colab_type": "code",
        "colab": {}
      },
      "source": [
        "from matplotlib.colors import ListedColormap\n",
        "from sklearn import model_selection, datasets, linear_model, metrics\n",
        "\n",
        "import numpy as np\n",
        "import matplotlib.pyplot as plt"
      ],
      "execution_count": 73,
      "outputs": []
    },
    {
      "cell_type": "code",
      "metadata": {
        "id": "T6Xx6PsLupeM",
        "colab_type": "code",
        "colab": {
          "base_uri": "https://localhost:8080/",
          "height": 84
        },
        "outputId": "1c5f19d4-f1d1-49f3-a4e3-4ed386ffd95d"
      },
      "source": [
        "%pylab inline"
      ],
      "execution_count": 74,
      "outputs": [
        {
          "output_type": "stream",
          "text": [
            "Populating the interactive namespace from numpy and matplotlib\n"
          ],
          "name": "stdout"
        },
        {
          "output_type": "stream",
          "text": [
            "/usr/local/lib/python3.6/dist-packages/IPython/core/magics/pylab.py:161: UserWarning: pylab import has clobbered these variables: ['axes']\n",
            "`%matplotlib` prevents importing * from pylab and numpy\n",
            "  \"\\n`%matplotlib` prevents importing * from pylab and numpy\"\n"
          ],
          "name": "stderr"
        }
      ]
    },
    {
      "cell_type": "code",
      "metadata": {
        "id": "Jg5VCHmRuqHF",
        "colab_type": "code",
        "colab": {}
      },
      "source": [
        "data, target, coef = datasets.make_regression(n_features = 2, n_informative = 1, n_targets = 1, \n",
        "                                              noise = 5., coef = True, random_state = 2)"
      ],
      "execution_count": 75,
      "outputs": []
    },
    {
      "cell_type": "code",
      "metadata": {
        "id": "2jgiJLn2eKQe",
        "colab_type": "code",
        "colab": {
          "base_uri": "https://localhost:8080/",
          "height": 1000
        },
        "outputId": "cb695b18-0820-4add-cba2-aff7b6f6f024"
      },
      "source": [
        "data"
      ],
      "execution_count": 107,
      "outputs": [
        {
          "output_type": "execute_result",
          "data": {
            "text/plain": [
              "array([[-1.13431848e+00, -7.07420888e-01],\n",
              "       [-2.76179492e-01, -5.16883894e-01],\n",
              "       [-4.62005348e-01,  3.50888494e-01],\n",
              "       [ 3.65053516e-01,  7.74082033e-01],\n",
              "       [-1.02141473e+00,  4.32395701e-01],\n",
              "       [-3.13508197e-01,  7.71011738e-01],\n",
              "       [-4.54227855e-01,  5.14370717e-01],\n",
              "       [-4.16757847e-01, -5.62668272e-02],\n",
              "       [-1.25542722e+00,  9.38163671e-01],\n",
              "       [ 1.00036589e+00, -3.81092518e-01],\n",
              "       [-1.73795950e+00,  1.04082395e+00],\n",
              "       [-1.54667461e+00, -2.08265194e+00],\n",
              "       [ 2.04207979e-01,  1.40669624e+00],\n",
              "       [-2.13619610e+00,  1.64027081e+00],\n",
              "       [ 4.33496330e-01,  1.27837923e+00],\n",
              "       [-4.68346260e-01, -1.25472031e+00],\n",
              "       [-2.69056960e-01,  2.23136679e+00],\n",
              "       [-3.25049628e-01, -5.60234506e-01],\n",
              "       [-9.02246068e-01, -5.90972275e-01],\n",
              "       [-1.41881055e+00, -2.51774118e-01],\n",
              "       [ 6.95119605e-01, -2.03346655e+00],\n",
              "       [-1.09873895e+00,  1.58448706e+00],\n",
              "       [-6.53250268e-01,  8.42456282e-01],\n",
              "       [ 3.27974540e+00,  9.70861320e-01],\n",
              "       [ 6.96197980e-01,  6.97416272e-01],\n",
              "       [-3.95702397e-02,  3.26003433e-01],\n",
              "       [-1.05795222e+00, -9.09007615e-01],\n",
              "       [-3.75669423e-01, -7.44707629e-02],\n",
              "       [-1.22142917e+00,  1.80447664e+00],\n",
              "       [ 2.55043824e+00, -1.47317325e+00],\n",
              "       [ 1.53176032e+00, -1.98584577e+00],\n",
              "       [ 1.24823646e-01,  7.56502143e-01],\n",
              "       [ 1.11788673e+00, -2.74242089e-01],\n",
              "       [ 1.83533272e+00,  4.40689872e-01],\n",
              "       [-1.83256574e-01,  1.01985473e+00],\n",
              "       [-1.86809065e+00,  1.73118467e+00],\n",
              "       [ 1.46767801e+00, -3.35677339e-01],\n",
              "       [-1.06079904e+00,  5.91666521e-01],\n",
              "       [-3.64479092e-01, -8.75979478e-01],\n",
              "       [ 6.10144086e-01,  4.23496900e-01],\n",
              "       [-7.19253841e-01, -5.83414595e-01],\n",
              "       [-4.03892269e-01, -1.38451867e+00],\n",
              "       [-1.91304965e-02,  1.17500122e+00],\n",
              "       [ 6.01515814e-01,  3.65949071e-03],\n",
              "       [ 1.17353150e+00, -2.34360319e+00],\n",
              "       [ 2.56570452e-01, -9.88779049e-01],\n",
              "       [-2.04032305e+00,  4.62555231e-02],\n",
              "       [-1.48246548e+00,  8.46311892e-01],\n",
              "       [ 5.01857207e-01, -8.44213704e-01],\n",
              "       [ 3.96520159e-01, -3.14617436e-01],\n",
              "       [ 3.70444537e-01,  1.35963386e+00],\n",
              "       [-6.34679305e-01,  5.08396243e-01],\n",
              "       [ 5.24296430e-01,  7.35279576e-01],\n",
              "       [-1.42121723e+00, -1.53495196e-01],\n",
              "       [-2.43476758e+00,  1.12726505e-01],\n",
              "       [ 9.76147160e-06,  5.42352572e-01],\n",
              "       [ 1.79259285e+00, -4.29013319e-01],\n",
              "       [ 6.11340780e-01,  4.79705919e-02],\n",
              "       [-8.78107893e-01, -1.56434170e-01],\n",
              "       [-4.19316482e-01, -1.32328898e-01],\n",
              "       [ 2.41439629e-01,  4.97425649e-01],\n",
              "       [ 7.51964849e-01, -9.93760983e-01],\n",
              "       [ 1.33556617e+00,  3.02629336e-01],\n",
              "       [ 1.74181219e+00, -4.47500876e-01],\n",
              "       [ 8.29458431e-01,  6.30621967e-01],\n",
              "       [-6.37655012e-01, -1.18761229e+00],\n",
              "       [-3.81516482e-01,  6.64890091e-02],\n",
              "       [ 4.15393930e-02, -1.11792545e+00],\n",
              "       [-3.23580070e-01,  4.23824708e-01],\n",
              "       [-1.89469265e-01, -7.72186654e-02],\n",
              "       [ 8.24703005e-01,  1.24821292e+00],\n",
              "       [-1.14421297e-01, -4.98174194e-01],\n",
              "       [ 1.16152149e+00,  3.86078048e-01],\n",
              "       [ 1.80409807e-01,  5.53164274e-01],\n",
              "       [ 3.80471970e-01, -2.17135269e-01],\n",
              "       [-1.45336435e+00, -3.38017777e-01],\n",
              "       [-2.28247558e-01, -2.06961226e+00],\n",
              "       [ 2.16116006e-01, -1.85861239e+00],\n",
              "       [ 4.10869262e+00,  8.21120877e-01],\n",
              "       [-1.79343559e+00, -8.41747366e-01],\n",
              "       [-2.65944946e+00, -9.14526229e-02],\n",
              "       [ 5.39058321e-01, -5.96159700e-01],\n",
              "       [ 1.03302907e+00, -3.29002435e-01],\n",
              "       [ 5.02881417e-01, -1.24528809e+00],\n",
              "       [ 1.10914328e+00, -1.76491773e+00],\n",
              "       [-3.38821966e-01, -2.36184031e-01],\n",
              "       [ 1.36723542e+00,  1.21788563e+00],\n",
              "       [-1.13313327e+00,  4.33092555e-01],\n",
              "       [ 5.51454045e-01,  2.29220801e+00],\n",
              "       [-5.93755583e-01,  1.14950057e+00],\n",
              "       [ 7.99179995e-01,  1.26261366e+00],\n",
              "       [-6.98589950e-01, -9.28891925e-01],\n",
              "       [ 3.81866234e-01,  5.66275441e-01],\n",
              "       [ 9.60781945e-01,  7.58370347e-01],\n",
              "       [-3.04086439e-01,  2.58529487e+00],\n",
              "       [-6.77675577e-01, -1.43943903e+00],\n",
              "       [-7.47870949e-01,  9.02525097e-03],\n",
              "       [-8.29135289e-01,  8.77102184e-02],\n",
              "       [ 3.59133332e-01,  6.22220414e-01],\n",
              "       [ 4.97940148e-01,  1.26504175e-01]])"
            ]
          },
          "metadata": {
            "tags": []
          },
          "execution_count": 107
        }
      ]
    },
    {
      "cell_type": "code",
      "metadata": {
        "id": "XSk_6kWmd-v5",
        "colab_type": "code",
        "colab": {
          "base_uri": "https://localhost:8080/",
          "height": 34
        },
        "outputId": "cca0ac07-a5a2-40ad-ec48-97a058240419"
      },
      "source": [
        "data.shape"
      ],
      "execution_count": 104,
      "outputs": [
        {
          "output_type": "execute_result",
          "data": {
            "text/plain": [
              "(100, 2)"
            ]
          },
          "metadata": {
            "tags": []
          },
          "execution_count": 104
        }
      ]
    },
    {
      "cell_type": "code",
      "metadata": {
        "id": "1AARbGyEd8Nq",
        "colab_type": "code",
        "colab": {}
      },
      "source": [
        "data_new = data.reshape((-1, 2))"
      ],
      "execution_count": 105,
      "outputs": []
    },
    {
      "cell_type": "code",
      "metadata": {
        "id": "-ZoFOtgHeNLh",
        "colab_type": "code",
        "colab": {
          "base_uri": "https://localhost:8080/",
          "height": 1000
        },
        "outputId": "b4adb3ba-c466-41d2-ebfc-5108d2130258"
      },
      "source": [
        "data_new"
      ],
      "execution_count": 108,
      "outputs": [
        {
          "output_type": "execute_result",
          "data": {
            "text/plain": [
              "array([[-1.13431848e+00, -7.07420888e-01],\n",
              "       [-2.76179492e-01, -5.16883894e-01],\n",
              "       [-4.62005348e-01,  3.50888494e-01],\n",
              "       [ 3.65053516e-01,  7.74082033e-01],\n",
              "       [-1.02141473e+00,  4.32395701e-01],\n",
              "       [-3.13508197e-01,  7.71011738e-01],\n",
              "       [-4.54227855e-01,  5.14370717e-01],\n",
              "       [-4.16757847e-01, -5.62668272e-02],\n",
              "       [-1.25542722e+00,  9.38163671e-01],\n",
              "       [ 1.00036589e+00, -3.81092518e-01],\n",
              "       [-1.73795950e+00,  1.04082395e+00],\n",
              "       [-1.54667461e+00, -2.08265194e+00],\n",
              "       [ 2.04207979e-01,  1.40669624e+00],\n",
              "       [-2.13619610e+00,  1.64027081e+00],\n",
              "       [ 4.33496330e-01,  1.27837923e+00],\n",
              "       [-4.68346260e-01, -1.25472031e+00],\n",
              "       [-2.69056960e-01,  2.23136679e+00],\n",
              "       [-3.25049628e-01, -5.60234506e-01],\n",
              "       [-9.02246068e-01, -5.90972275e-01],\n",
              "       [-1.41881055e+00, -2.51774118e-01],\n",
              "       [ 6.95119605e-01, -2.03346655e+00],\n",
              "       [-1.09873895e+00,  1.58448706e+00],\n",
              "       [-6.53250268e-01,  8.42456282e-01],\n",
              "       [ 3.27974540e+00,  9.70861320e-01],\n",
              "       [ 6.96197980e-01,  6.97416272e-01],\n",
              "       [-3.95702397e-02,  3.26003433e-01],\n",
              "       [-1.05795222e+00, -9.09007615e-01],\n",
              "       [-3.75669423e-01, -7.44707629e-02],\n",
              "       [-1.22142917e+00,  1.80447664e+00],\n",
              "       [ 2.55043824e+00, -1.47317325e+00],\n",
              "       [ 1.53176032e+00, -1.98584577e+00],\n",
              "       [ 1.24823646e-01,  7.56502143e-01],\n",
              "       [ 1.11788673e+00, -2.74242089e-01],\n",
              "       [ 1.83533272e+00,  4.40689872e-01],\n",
              "       [-1.83256574e-01,  1.01985473e+00],\n",
              "       [-1.86809065e+00,  1.73118467e+00],\n",
              "       [ 1.46767801e+00, -3.35677339e-01],\n",
              "       [-1.06079904e+00,  5.91666521e-01],\n",
              "       [-3.64479092e-01, -8.75979478e-01],\n",
              "       [ 6.10144086e-01,  4.23496900e-01],\n",
              "       [-7.19253841e-01, -5.83414595e-01],\n",
              "       [-4.03892269e-01, -1.38451867e+00],\n",
              "       [-1.91304965e-02,  1.17500122e+00],\n",
              "       [ 6.01515814e-01,  3.65949071e-03],\n",
              "       [ 1.17353150e+00, -2.34360319e+00],\n",
              "       [ 2.56570452e-01, -9.88779049e-01],\n",
              "       [-2.04032305e+00,  4.62555231e-02],\n",
              "       [-1.48246548e+00,  8.46311892e-01],\n",
              "       [ 5.01857207e-01, -8.44213704e-01],\n",
              "       [ 3.96520159e-01, -3.14617436e-01],\n",
              "       [ 3.70444537e-01,  1.35963386e+00],\n",
              "       [-6.34679305e-01,  5.08396243e-01],\n",
              "       [ 5.24296430e-01,  7.35279576e-01],\n",
              "       [-1.42121723e+00, -1.53495196e-01],\n",
              "       [-2.43476758e+00,  1.12726505e-01],\n",
              "       [ 9.76147160e-06,  5.42352572e-01],\n",
              "       [ 1.79259285e+00, -4.29013319e-01],\n",
              "       [ 6.11340780e-01,  4.79705919e-02],\n",
              "       [-8.78107893e-01, -1.56434170e-01],\n",
              "       [-4.19316482e-01, -1.32328898e-01],\n",
              "       [ 2.41439629e-01,  4.97425649e-01],\n",
              "       [ 7.51964849e-01, -9.93760983e-01],\n",
              "       [ 1.33556617e+00,  3.02629336e-01],\n",
              "       [ 1.74181219e+00, -4.47500876e-01],\n",
              "       [ 8.29458431e-01,  6.30621967e-01],\n",
              "       [-6.37655012e-01, -1.18761229e+00],\n",
              "       [-3.81516482e-01,  6.64890091e-02],\n",
              "       [ 4.15393930e-02, -1.11792545e+00],\n",
              "       [-3.23580070e-01,  4.23824708e-01],\n",
              "       [-1.89469265e-01, -7.72186654e-02],\n",
              "       [ 8.24703005e-01,  1.24821292e+00],\n",
              "       [-1.14421297e-01, -4.98174194e-01],\n",
              "       [ 1.16152149e+00,  3.86078048e-01],\n",
              "       [ 1.80409807e-01,  5.53164274e-01],\n",
              "       [ 3.80471970e-01, -2.17135269e-01],\n",
              "       [-1.45336435e+00, -3.38017777e-01],\n",
              "       [-2.28247558e-01, -2.06961226e+00],\n",
              "       [ 2.16116006e-01, -1.85861239e+00],\n",
              "       [ 4.10869262e+00,  8.21120877e-01],\n",
              "       [-1.79343559e+00, -8.41747366e-01],\n",
              "       [-2.65944946e+00, -9.14526229e-02],\n",
              "       [ 5.39058321e-01, -5.96159700e-01],\n",
              "       [ 1.03302907e+00, -3.29002435e-01],\n",
              "       [ 5.02881417e-01, -1.24528809e+00],\n",
              "       [ 1.10914328e+00, -1.76491773e+00],\n",
              "       [-3.38821966e-01, -2.36184031e-01],\n",
              "       [ 1.36723542e+00,  1.21788563e+00],\n",
              "       [-1.13313327e+00,  4.33092555e-01],\n",
              "       [ 5.51454045e-01,  2.29220801e+00],\n",
              "       [-5.93755583e-01,  1.14950057e+00],\n",
              "       [ 7.99179995e-01,  1.26261366e+00],\n",
              "       [-6.98589950e-01, -9.28891925e-01],\n",
              "       [ 3.81866234e-01,  5.66275441e-01],\n",
              "       [ 9.60781945e-01,  7.58370347e-01],\n",
              "       [-3.04086439e-01,  2.58529487e+00],\n",
              "       [-6.77675577e-01, -1.43943903e+00],\n",
              "       [-7.47870949e-01,  9.02525097e-03],\n",
              "       [-8.29135289e-01,  8.77102184e-02],\n",
              "       [ 3.59133332e-01,  6.22220414e-01],\n",
              "       [ 4.97940148e-01,  1.26504175e-01]])"
            ]
          },
          "metadata": {
            "tags": []
          },
          "execution_count": 108
        }
      ]
    },
    {
      "cell_type": "code",
      "metadata": {
        "id": "RYixZks0eFad",
        "colab_type": "code",
        "colab": {
          "base_uri": "https://localhost:8080/",
          "height": 34
        },
        "outputId": "8ed55380-bf3e-426e-ae81-44eb57e7fcda"
      },
      "source": [
        "data_new.shape"
      ],
      "execution_count": 106,
      "outputs": [
        {
          "output_type": "execute_result",
          "data": {
            "text/plain": [
              "(100, 2)"
            ]
          },
          "metadata": {
            "tags": []
          },
          "execution_count": 106
        }
      ]
    },
    {
      "cell_type": "code",
      "metadata": {
        "id": "ni63OffEaaQy",
        "colab_type": "code",
        "colab": {
          "base_uri": "https://localhost:8080/",
          "height": 437
        },
        "outputId": "6acfa9ec-4b86-4306-e1ef-c90f8f4630ce"
      },
      "source": [
        "target"
      ],
      "execution_count": 76,
      "outputs": [
        {
          "output_type": "execute_result",
          "data": {
            "text/plain": [
              "array([ -45.38589148,  -10.29545833,  -21.47606913,   11.96165156,\n",
              "        -42.44469577,  -16.30914909,  -22.64686884,  -13.26392817,\n",
              "        -45.27502383,   39.70663436,  -70.11132234,  -63.4056294 ,\n",
              "         14.76930132,  -84.32102748,   21.20540389,  -18.86438755,\n",
              "        -15.01435792,  -11.18242389,  -37.31870104,  -57.46293828,\n",
              "         11.06961035,  -35.32062686,  -18.57607726,  126.64909941,\n",
              "         19.66406455,    0.34799656,  -36.44717565,  -16.79027112,\n",
              "        -40.84204295,  101.14760598,   58.26281761,    5.86887774,\n",
              "         45.05465366,   64.19559505,  -12.0017312 ,  -71.3715844 ,\n",
              "         49.41686419,  -52.37232463,  -16.65927231,   27.83791274,\n",
              "        -26.87743177,  -16.85466265,   -1.42235396,   28.15553021,\n",
              "         41.95683853,    4.45578287,  -80.80239408,  -61.47026695,\n",
              "         22.2276832 ,   25.24428409,   11.74073026,  -21.48288019,\n",
              "         12.47089016,  -44.51417742,  -91.477377  ,    1.72644759,\n",
              "         64.70214251,   24.47584129,  -32.92158843,  -12.98848753,\n",
              "         10.33267887,   25.7124082 ,   44.66274342,   78.24817537,\n",
              "         29.8208999 ,  -27.02798161,  -13.99339669,   -0.74051877,\n",
              "        -14.97110322,  -10.27758354,   23.87701013,   -4.38652971,\n",
              "         44.41658249,   12.42286854,   12.67156468,  -48.28700118,\n",
              "        -10.06708677,   12.74038341,  160.09441244,  -76.75213382,\n",
              "       -105.77758163,   22.13032804,   34.35183007,   18.17188553,\n",
              "         38.36241814,  -17.27897399,   51.87072011,  -32.71074998,\n",
              "         17.64282734,  -22.32195021,   24.82763821,  -36.69728864,\n",
              "         13.31981235,   41.1068411 ,  -19.16792315,  -24.77820218,\n",
              "        -22.33224966,  -19.36956003,   20.87713077,   13.02656201])"
            ]
          },
          "metadata": {
            "tags": []
          },
          "execution_count": 76
        }
      ]
    },
    {
      "cell_type": "code",
      "metadata": {
        "id": "1og1fJmWa4F7",
        "colab_type": "code",
        "colab": {
          "base_uri": "https://localhost:8080/",
          "height": 293
        },
        "outputId": "c44f340f-0210-46bb-f77f-4687cd4905c1"
      },
      "source": [
        "fig, axes=plt.subplots(nrows=1, ncols=2)\n",
        "plt.tight_layout()\n",
        "axes[0].scatter(data[:,0], target, color = 'r')\n",
        "axes[1].scatter(data[:,1], target, color = 'b');"
      ],
      "execution_count": 77,
      "outputs": [
        {
          "output_type": "display_data",
          "data": {
            "image/png": "[encoded data removed]",
            "text/plain": [
              "<Figure size 432x288 with 2 Axes>"
            ]
          },
          "metadata": {
            "tags": [],
            "needs_background": "light"
          }
        }
      ]
    },
    {
      "cell_type": "code",
      "metadata": {
        "id": "LnsR9aFHutWy",
        "colab_type": "code",
        "colab": {
          "base_uri": "https://localhost:8080/",
          "height": 265
        },
        "outputId": "b3bfb8d4-3559-409d-b34e-dff7722210f7"
      },
      "source": [
        "plt.scatter(data[:,0], target, color = 'r');"
      ],
      "execution_count": 78,
      "outputs": [
        {
          "output_type": "display_data",
          "data": {
            "image/png": "[encoded data removed]",
            "text/plain": [
              "<Figure size 432x288 with 1 Axes>"
            ]
          },
          "metadata": {
            "tags": [],
            "needs_background": "light"
          }
        }
      ]
    },
    {
      "cell_type": "code",
      "metadata": {
        "id": "tt7JH5a2awkj",
        "colab_type": "code",
        "colab": {
          "base_uri": "https://localhost:8080/",
          "height": 265
        },
        "outputId": "b76f5fb1-a874-4389-9e03-c42973088bb6"
      },
      "source": [
        "plt.scatter(data[:,1], target, color = 'b');"
      ],
      "execution_count": 79,
      "outputs": [
        {
          "output_type": "display_data",
          "data": {
            "image/png": "[encoded data removed]",
            "text/plain": [
              "<Figure size 432x288 with 1 Axes>"
            ]
          },
          "metadata": {
            "tags": [],
            "needs_background": "light"
          }
        }
      ]
    },
    {
      "cell_type": "code",
      "metadata": {
        "id": "27_Uq-qzcRMr",
        "colab_type": "code",
        "colab": {
          "base_uri": "https://localhost:8080/",
          "height": 34
        },
        "outputId": "6481dbae-5caf-44ec-aaa2-8f7a47509cd0"
      },
      "source": [
        "target.shape"
      ],
      "execution_count": 80,
      "outputs": [
        {
          "output_type": "execute_result",
          "data": {
            "text/plain": [
              "(100,)"
            ]
          },
          "metadata": {
            "tags": []
          },
          "execution_count": 80
        }
      ]
    },
    {
      "cell_type": "code",
      "metadata": {
        "id": "fexeNokSdkf5",
        "colab_type": "code",
        "colab": {
          "base_uri": "https://localhost:8080/",
          "height": 437
        },
        "outputId": "e4ee47fd-791f-4442-9eea-e72e44bcaa05"
      },
      "source": [
        "target"
      ],
      "execution_count": 81,
      "outputs": [
        {
          "output_type": "execute_result",
          "data": {
            "text/plain": [
              "array([ -45.38589148,  -10.29545833,  -21.47606913,   11.96165156,\n",
              "        -42.44469577,  -16.30914909,  -22.64686884,  -13.26392817,\n",
              "        -45.27502383,   39.70663436,  -70.11132234,  -63.4056294 ,\n",
              "         14.76930132,  -84.32102748,   21.20540389,  -18.86438755,\n",
              "        -15.01435792,  -11.18242389,  -37.31870104,  -57.46293828,\n",
              "         11.06961035,  -35.32062686,  -18.57607726,  126.64909941,\n",
              "         19.66406455,    0.34799656,  -36.44717565,  -16.79027112,\n",
              "        -40.84204295,  101.14760598,   58.26281761,    5.86887774,\n",
              "         45.05465366,   64.19559505,  -12.0017312 ,  -71.3715844 ,\n",
              "         49.41686419,  -52.37232463,  -16.65927231,   27.83791274,\n",
              "        -26.87743177,  -16.85466265,   -1.42235396,   28.15553021,\n",
              "         41.95683853,    4.45578287,  -80.80239408,  -61.47026695,\n",
              "         22.2276832 ,   25.24428409,   11.74073026,  -21.48288019,\n",
              "         12.47089016,  -44.51417742,  -91.477377  ,    1.72644759,\n",
              "         64.70214251,   24.47584129,  -32.92158843,  -12.98848753,\n",
              "         10.33267887,   25.7124082 ,   44.66274342,   78.24817537,\n",
              "         29.8208999 ,  -27.02798161,  -13.99339669,   -0.74051877,\n",
              "        -14.97110322,  -10.27758354,   23.87701013,   -4.38652971,\n",
              "         44.41658249,   12.42286854,   12.67156468,  -48.28700118,\n",
              "        -10.06708677,   12.74038341,  160.09441244,  -76.75213382,\n",
              "       -105.77758163,   22.13032804,   34.35183007,   18.17188553,\n",
              "         38.36241814,  -17.27897399,   51.87072011,  -32.71074998,\n",
              "         17.64282734,  -22.32195021,   24.82763821,  -36.69728864,\n",
              "         13.31981235,   41.1068411 ,  -19.16792315,  -24.77820218,\n",
              "        -22.33224966,  -19.36956003,   20.87713077,   13.02656201])"
            ]
          },
          "metadata": {
            "tags": []
          },
          "execution_count": 81
        }
      ]
    },
    {
      "cell_type": "code",
      "metadata": {
        "id": "LXanlwWJdUzf",
        "colab_type": "code",
        "colab": {
          "base_uri": "https://localhost:8080/",
          "height": 1000
        },
        "outputId": "1d178133-f145-42e1-9b8c-087b8790e6b4"
      },
      "source": [
        "target_new = target.reshape((-1, 1))\n",
        "target_new"
      ],
      "execution_count": 82,
      "outputs": [
        {
          "output_type": "execute_result",
          "data": {
            "text/plain": [
              "array([[ -45.38589148],\n",
              "       [ -10.29545833],\n",
              "       [ -21.47606913],\n",
              "       [  11.96165156],\n",
              "       [ -42.44469577],\n",
              "       [ -16.30914909],\n",
              "       [ -22.64686884],\n",
              "       [ -13.26392817],\n",
              "       [ -45.27502383],\n",
              "       [  39.70663436],\n",
              "       [ -70.11132234],\n",
              "       [ -63.4056294 ],\n",
              "       [  14.76930132],\n",
              "       [ -84.32102748],\n",
              "       [  21.20540389],\n",
              "       [ -18.86438755],\n",
              "       [ -15.01435792],\n",
              "       [ -11.18242389],\n",
              "       [ -37.31870104],\n",
              "       [ -57.46293828],\n",
              "       [  11.06961035],\n",
              "       [ -35.32062686],\n",
              "       [ -18.57607726],\n",
              "       [ 126.64909941],\n",
              "       [  19.66406455],\n",
              "       [   0.34799656],\n",
              "       [ -36.44717565],\n",
              "       [ -16.79027112],\n",
              "       [ -40.84204295],\n",
              "       [ 101.14760598],\n",
              "       [  58.26281761],\n",
              "       [   5.86887774],\n",
              "       [  45.05465366],\n",
              "       [  64.19559505],\n",
              "       [ -12.0017312 ],\n",
              "       [ -71.3715844 ],\n",
              "       [  49.41686419],\n",
              "       [ -52.37232463],\n",
              "       [ -16.65927231],\n",
              "       [  27.83791274],\n",
              "       [ -26.87743177],\n",
              "       [ -16.85466265],\n",
              "       [  -1.42235396],\n",
              "       [  28.15553021],\n",
              "       [  41.95683853],\n",
              "       [   4.45578287],\n",
              "       [ -80.80239408],\n",
              "       [ -61.47026695],\n",
              "       [  22.2276832 ],\n",
              "       [  25.24428409],\n",
              "       [  11.74073026],\n",
              "       [ -21.48288019],\n",
              "       [  12.47089016],\n",
              "       [ -44.51417742],\n",
              "       [ -91.477377  ],\n",
              "       [   1.72644759],\n",
              "       [  64.70214251],\n",
              "       [  24.47584129],\n",
              "       [ -32.92158843],\n",
              "       [ -12.98848753],\n",
              "       [  10.33267887],\n",
              "       [  25.7124082 ],\n",
              "       [  44.66274342],\n",
              "       [  78.24817537],\n",
              "       [  29.8208999 ],\n",
              "       [ -27.02798161],\n",
              "       [ -13.99339669],\n",
              "       [  -0.74051877],\n",
              "       [ -14.97110322],\n",
              "       [ -10.27758354],\n",
              "       [  23.87701013],\n",
              "       [  -4.38652971],\n",
              "       [  44.41658249],\n",
              "       [  12.42286854],\n",
              "       [  12.67156468],\n",
              "       [ -48.28700118],\n",
              "       [ -10.06708677],\n",
              "       [  12.74038341],\n",
              "       [ 160.09441244],\n",
              "       [ -76.75213382],\n",
              "       [-105.77758163],\n",
              "       [  22.13032804],\n",
              "       [  34.35183007],\n",
              "       [  18.17188553],\n",
              "       [  38.36241814],\n",
              "       [ -17.27897399],\n",
              "       [  51.87072011],\n",
              "       [ -32.71074998],\n",
              "       [  17.64282734],\n",
              "       [ -22.32195021],\n",
              "       [  24.82763821],\n",
              "       [ -36.69728864],\n",
              "       [  13.31981235],\n",
              "       [  41.1068411 ],\n",
              "       [ -19.16792315],\n",
              "       [ -24.77820218],\n",
              "       [ -22.33224966],\n",
              "       [ -19.36956003],\n",
              "       [  20.87713077],\n",
              "       [  13.02656201]])"
            ]
          },
          "metadata": {
            "tags": []
          },
          "execution_count": 82
        }
      ]
    },
    {
      "cell_type": "code",
      "metadata": {
        "id": "KR1lIU9NdvmL",
        "colab_type": "code",
        "colab": {
          "base_uri": "https://localhost:8080/",
          "height": 34
        },
        "outputId": "09c0b81e-4e2f-4843-ef79-df825c9faf83"
      },
      "source": [
        "target_new.shape"
      ],
      "execution_count": 103,
      "outputs": [
        {
          "output_type": "execute_result",
          "data": {
            "text/plain": [
              "(100, 1)"
            ]
          },
          "metadata": {
            "tags": []
          },
          "execution_count": 103
        }
      ]
    },
    {
      "cell_type": "code",
      "metadata": {
        "id": "STcrGuEUcWni",
        "colab_type": "code",
        "colab": {}
      },
      "source": [
        "target = target.reshape((100, 1))"
      ],
      "execution_count": 83,
      "outputs": []
    },
    {
      "cell_type": "code",
      "metadata": {
        "id": "b6o5zPJidcph",
        "colab_type": "code",
        "colab": {
          "base_uri": "https://localhost:8080/",
          "height": 1000
        },
        "outputId": "e2d91872-30ef-451a-e4a7-142cd768f471"
      },
      "source": [
        "target"
      ],
      "execution_count": 84,
      "outputs": [
        {
          "output_type": "execute_result",
          "data": {
            "text/plain": [
              "array([[ -45.38589148],\n",
              "       [ -10.29545833],\n",
              "       [ -21.47606913],\n",
              "       [  11.96165156],\n",
              "       [ -42.44469577],\n",
              "       [ -16.30914909],\n",
              "       [ -22.64686884],\n",
              "       [ -13.26392817],\n",
              "       [ -45.27502383],\n",
              "       [  39.70663436],\n",
              "       [ -70.11132234],\n",
              "       [ -63.4056294 ],\n",
              "       [  14.76930132],\n",
              "       [ -84.32102748],\n",
              "       [  21.20540389],\n",
              "       [ -18.86438755],\n",
              "       [ -15.01435792],\n",
              "       [ -11.18242389],\n",
              "       [ -37.31870104],\n",
              "       [ -57.46293828],\n",
              "       [  11.06961035],\n",
              "       [ -35.32062686],\n",
              "       [ -18.57607726],\n",
              "       [ 126.64909941],\n",
              "       [  19.66406455],\n",
              "       [   0.34799656],\n",
              "       [ -36.44717565],\n",
              "       [ -16.79027112],\n",
              "       [ -40.84204295],\n",
              "       [ 101.14760598],\n",
              "       [  58.26281761],\n",
              "       [   5.86887774],\n",
              "       [  45.05465366],\n",
              "       [  64.19559505],\n",
              "       [ -12.0017312 ],\n",
              "       [ -71.3715844 ],\n",
              "       [  49.41686419],\n",
              "       [ -52.37232463],\n",
              "       [ -16.65927231],\n",
              "       [  27.83791274],\n",
              "       [ -26.87743177],\n",
              "       [ -16.85466265],\n",
              "       [  -1.42235396],\n",
              "       [  28.15553021],\n",
              "       [  41.95683853],\n",
              "       [   4.45578287],\n",
              "       [ -80.80239408],\n",
              "       [ -61.47026695],\n",
              "       [  22.2276832 ],\n",
              "       [  25.24428409],\n",
              "       [  11.74073026],\n",
              "       [ -21.48288019],\n",
              "       [  12.47089016],\n",
              "       [ -44.51417742],\n",
              "       [ -91.477377  ],\n",
              "       [   1.72644759],\n",
              "       [  64.70214251],\n",
              "       [  24.47584129],\n",
              "       [ -32.92158843],\n",
              "       [ -12.98848753],\n",
              "       [  10.33267887],\n",
              "       [  25.7124082 ],\n",
              "       [  44.66274342],\n",
              "       [  78.24817537],\n",
              "       [  29.8208999 ],\n",
              "       [ -27.02798161],\n",
              "       [ -13.99339669],\n",
              "       [  -0.74051877],\n",
              "       [ -14.97110322],\n",
              "       [ -10.27758354],\n",
              "       [  23.87701013],\n",
              "       [  -4.38652971],\n",
              "       [  44.41658249],\n",
              "       [  12.42286854],\n",
              "       [  12.67156468],\n",
              "       [ -48.28700118],\n",
              "       [ -10.06708677],\n",
              "       [  12.74038341],\n",
              "       [ 160.09441244],\n",
              "       [ -76.75213382],\n",
              "       [-105.77758163],\n",
              "       [  22.13032804],\n",
              "       [  34.35183007],\n",
              "       [  18.17188553],\n",
              "       [  38.36241814],\n",
              "       [ -17.27897399],\n",
              "       [  51.87072011],\n",
              "       [ -32.71074998],\n",
              "       [  17.64282734],\n",
              "       [ -22.32195021],\n",
              "       [  24.82763821],\n",
              "       [ -36.69728864],\n",
              "       [  13.31981235],\n",
              "       [  41.1068411 ],\n",
              "       [ -19.16792315],\n",
              "       [ -24.77820218],\n",
              "       [ -22.33224966],\n",
              "       [ -19.36956003],\n",
              "       [  20.87713077],\n",
              "       [  13.02656201]])"
            ]
          },
          "metadata": {
            "tags": []
          },
          "execution_count": 84
        }
      ]
    },
    {
      "cell_type": "code",
      "metadata": {
        "id": "tsZFYkmWcuH8",
        "colab_type": "code",
        "colab": {
          "base_uri": "https://localhost:8080/",
          "height": 34
        },
        "outputId": "d9fad253-7dc4-41fc-b732-990dc063911f"
      },
      "source": [
        "data[:, 0].shape"
      ],
      "execution_count": 85,
      "outputs": [
        {
          "output_type": "execute_result",
          "data": {
            "text/plain": [
              "(100,)"
            ]
          },
          "metadata": {
            "tags": []
          },
          "execution_count": 85
        }
      ]
    },
    {
      "cell_type": "code",
      "metadata": {
        "id": "wgQMDQQVczap",
        "colab_type": "code",
        "colab": {}
      },
      "source": [
        "data_new = data[:, 0].reshape((100, 1))"
      ],
      "execution_count": 86,
      "outputs": []
    },
    {
      "cell_type": "code",
      "metadata": {
        "id": "kBlfHNm-x4VE",
        "colab_type": "code",
        "colab": {}
      },
      "source": [
        "train_data, test_data, train_labels, test_labels = model_selection.train_test_split(data_new, target,  \n",
        "                                                                                    test_size = 0.3)"
      ],
      "execution_count": 87,
      "outputs": []
    },
    {
      "cell_type": "markdown",
      "metadata": {
        "id": "OO9v5NJHmVwJ",
        "colab_type": "text"
      },
      "source": [
        "**LinearRegression**"
      ]
    },
    {
      "cell_type": "code",
      "metadata": {
        "id": "XBI_RuRomYf5",
        "colab_type": "code",
        "colab": {}
      },
      "source": [
        "linear_regressor = linear_model.LinearRegression()\n",
        "linear_regressor.fit(train_data, train_labels)\n",
        "predictions = linear_regressor.predict(test_data)"
      ],
      "execution_count": 88,
      "outputs": []
    },
    {
      "cell_type": "code",
      "metadata": {
        "id": "opaqv5oAmYlF",
        "colab_type": "code",
        "colab": {
          "base_uri": "https://localhost:8080/",
          "height": 521
        },
        "outputId": "563327bc-e142-4800-f78d-6fe0df265976"
      },
      "source": [
        "print(test_labels)"
      ],
      "execution_count": 89,
      "outputs": [
        {
          "output_type": "stream",
          "text": [
            "[[  -1.42235396]\n",
            " [  34.35183007]\n",
            " [  11.74073026]\n",
            " [ -22.32195021]\n",
            " [  24.47584129]\n",
            " [ -80.80239408]\n",
            " [ -22.33224966]\n",
            " [  44.41658249]\n",
            " [ -36.69728864]\n",
            " [  39.70663436]\n",
            " [  22.13032804]\n",
            " [  25.24428409]\n",
            " [  12.67156468]\n",
            " [ -18.57607726]\n",
            " [ -21.48288019]\n",
            " [  58.26281761]\n",
            " [ -42.44469577]\n",
            " [-105.77758163]\n",
            " [  12.42286854]\n",
            " [ -84.32102748]\n",
            " [  44.66274342]\n",
            " [ -45.27502383]\n",
            " [ -16.30914909]\n",
            " [ -11.18242389]\n",
            " [  -4.38652971]\n",
            " [   4.45578287]\n",
            " [ -76.75213382]\n",
            " [ -63.4056294 ]\n",
            " [  41.95683853]\n",
            " [  14.76930132]]\n"
          ],
          "name": "stdout"
        }
      ]
    },
    {
      "cell_type": "code",
      "metadata": {
        "id": "mexZFZeXmYog",
        "colab_type": "code",
        "colab": {
          "base_uri": "https://localhost:8080/",
          "height": 521
        },
        "outputId": "4ecae02e-1c97-41a8-b987-b912d7d69687"
      },
      "source": [
        "print(predictions)"
      ],
      "execution_count": 90,
      "outputs": [
        {
          "output_type": "stream",
          "text": [
            "[[  -1.18929629]\n",
            " [  38.70998041]\n",
            " [  13.58390218]\n",
            " [ -22.97983657]\n",
            " [  22.71900507]\n",
            " [ -77.83558056]\n",
            " [ -28.82409429]\n",
            " [  43.58258243]\n",
            " [ -26.95529388]\n",
            " [  37.47134962]\n",
            " [  19.977959  ]\n",
            " [  14.57272412]\n",
            " [  13.96415567]\n",
            " [ -25.2359534 ]\n",
            " [ -24.53171803]\n",
            " [  57.62252645]\n",
            " [ -39.19723484]\n",
            " [-101.31366956]\n",
            " [   6.37753488]\n",
            " [ -81.4712128 ]\n",
            " [  50.18258589]\n",
            " [ -48.07129666]\n",
            " [ -12.3524865 ]\n",
            " [ -12.79015279]\n",
            " [  -4.80284898]\n",
            " [   9.26564688]\n",
            " [ -68.4732827 ]\n",
            " [ -59.11578149]\n",
            " [  44.03801775]\n",
            " [   7.27999292]]\n"
          ],
          "name": "stdout"
        }
      ]
    },
    {
      "cell_type": "code",
      "metadata": {
        "id": "EheJllSkpFIG",
        "colab_type": "code",
        "colab": {
          "base_uri": "https://localhost:8080/",
          "height": 34
        },
        "outputId": "886e2bc2-019a-4f14-ab71-eaa1a2aac1ec"
      },
      "source": [
        "metrics.mean_squared_error(test_labels, predictions)"
      ],
      "execution_count": 91,
      "outputs": [
        {
          "output_type": "execute_result",
          "data": {
            "text/plain": [
              "21.803101302000258"
            ]
          },
          "metadata": {
            "tags": []
          },
          "execution_count": 91
        }
      ]
    },
    {
      "cell_type": "code",
      "metadata": {
        "id": "_qM38vNPmYr6",
        "colab_type": "code",
        "colab": {
          "base_uri": "https://localhost:8080/",
          "height": 34
        },
        "outputId": "f19c3216-e12d-4681-f93a-64d5f30a3f9a"
      },
      "source": [
        "metrics.mean_absolute_error(test_labels, predictions)"
      ],
      "execution_count": 92,
      "outputs": [
        {
          "output_type": "execute_result",
          "data": {
            "text/plain": [
              "3.7812321143662926"
            ]
          },
          "metadata": {
            "tags": []
          },
          "execution_count": 92
        }
      ]
    },
    {
      "cell_type": "code",
      "metadata": {
        "id": "vAu2m69FpzXE",
        "colab_type": "code",
        "colab": {
          "base_uri": "https://localhost:8080/",
          "height": 34
        },
        "outputId": "0c639c90-ee9e-488f-b50e-7a5b352087d5"
      },
      "source": [
        "metrics.r2_score(test_labels, predictions)"
      ],
      "execution_count": 93,
      "outputs": [
        {
          "output_type": "execute_result",
          "data": {
            "text/plain": [
              "0.9879223004708435"
            ]
          },
          "metadata": {
            "tags": []
          },
          "execution_count": 93
        }
      ]
    },
    {
      "cell_type": "code",
      "metadata": {
        "id": "IWOCnE_bkTt6",
        "colab_type": "code",
        "colab": {
          "base_uri": "https://localhost:8080/",
          "height": 34
        },
        "outputId": "4b10a760-6061-45c2-d899-22afa5df0123"
      },
      "source": [
        "coef"
      ],
      "execution_count": 94,
      "outputs": [
        {
          "output_type": "execute_result",
          "data": {
            "text/plain": [
              "array([38.07925837,  0.        ])"
            ]
          },
          "metadata": {
            "tags": []
          },
          "execution_count": 94
        }
      ]
    },
    {
      "cell_type": "code",
      "metadata": {
        "id": "YFUmKo6EmgxZ",
        "colab_type": "code",
        "colab": {
          "base_uri": "https://localhost:8080/",
          "height": 34
        },
        "outputId": "477b400f-f36a-424e-e89d-3add9c5fca41"
      },
      "source": [
        "linear_regressor.coef_"
      ],
      "execution_count": 95,
      "outputs": [
        {
          "output_type": "execute_result",
          "data": {
            "text/plain": [
              "array([[37.92131738]])"
            ]
          },
          "metadata": {
            "tags": []
          },
          "execution_count": 95
        }
      ]
    },
    {
      "cell_type": "code",
      "metadata": {
        "id": "17CJZX5jmtsi",
        "colab_type": "code",
        "colab": {
          "base_uri": "https://localhost:8080/",
          "height": 34
        },
        "outputId": "3277e27c-ca8e-41cf-fdd8-df881165d2d4"
      },
      "source": [
        "linear_regressor.intercept_"
      ],
      "execution_count": 96,
      "outputs": [
        {
          "output_type": "execute_result",
          "data": {
            "text/plain": [
              "array([-0.46384266])"
            ]
          },
          "metadata": {
            "tags": []
          },
          "execution_count": 96
        }
      ]
    },
    {
      "cell_type": "markdown",
      "metadata": {
        "id": "5sWnAKc0qTc5",
        "colab_type": "text"
      },
      "source": [
        "**Cross Val Score**"
      ]
    },
    {
      "cell_type": "code",
      "metadata": {
        "id": "jrEZ9z-0iej9",
        "colab_type": "code",
        "colab": {}
      },
      "source": [
        "linear_regressor_score = linear_model.LinearRegression()"
      ],
      "execution_count": 97,
      "outputs": []
    },
    {
      "cell_type": "code",
      "metadata": {
        "id": "FnaxULymiOOS",
        "colab_type": "code",
        "colab": {}
      },
      "source": [
        "linear_scoring = model_selection.cross_val_score(linear_regressor_score, data, target, scoring = 'neg_mean_absolute_error', \n",
        "                                                  cv = 10)"
      ],
      "execution_count": 98,
      "outputs": []
    },
    {
      "cell_type": "code",
      "metadata": {
        "id": "fMwaUsi1iOW7",
        "colab_type": "code",
        "colab": {
          "base_uri": "https://localhost:8080/",
          "height": 34
        },
        "outputId": "cc915347-af8d-48e0-d71f-ade4c282855f"
      },
      "source": [
        "print('mean:', linear_scoring.mean())"
      ],
      "execution_count": 99,
      "outputs": [
        {
          "output_type": "stream",
          "text": [
            "mean: -4.070071498779696\n"
          ],
          "name": "stdout"
        }
      ]
    },
    {
      "cell_type": "code",
      "metadata": {
        "id": "OvyKqJ6OiOaW",
        "colab_type": "code",
        "colab": {}
      },
      "source": [
        "scorer = metrics.make_scorer(metrics.mean_absolute_error, greater_is_better = True)"
      ],
      "execution_count": 100,
      "outputs": []
    },
    {
      "cell_type": "code",
      "metadata": {
        "id": "b3-9mNWOiOdL",
        "colab_type": "code",
        "colab": {}
      },
      "source": [
        "linear_scoring = model_selection.cross_val_score(linear_regressor_score, data, target, scoring = scorer, \n",
        "                                                  cv = 10)"
      ],
      "execution_count": 101,
      "outputs": []
    },
    {
      "cell_type": "code",
      "metadata": {
        "id": "CriLPTOXjV48",
        "colab_type": "code",
        "colab": {
          "base_uri": "https://localhost:8080/",
          "height": 34
        },
        "outputId": "fbae7404-050c-4854-883b-02fbd5d51308"
      },
      "source": [
        "print('mean:', linear_scoring.mean())"
      ],
      "execution_count": 102,
      "outputs": [
        {
          "output_type": "stream",
          "text": [
            "mean: 4.070071498779696\n"
          ],
          "name": "stdout"
        }
      ]
    }
  ]
}